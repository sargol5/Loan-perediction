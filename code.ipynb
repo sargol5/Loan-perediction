{
 "cells": [
  {
   "cell_type": "markdown",
   "id": "f4d586d4",
   "metadata": {},
   "source": [
    "# Predict who will pay the loan"
   ]
  },
  {
   "cell_type": "code",
   "execution_count": 1,
   "id": "64c2124d",
   "metadata": {},
   "outputs": [],
   "source": [
    "import pandas as pd\n",
    "import numpy as np\n",
    "import matplotlib as plt\n",
    "%matplotlib inline\n",
    "\n",
    "df = pd.read_csv(\"desktop/loan_data.csv\") #Reading the dataset in a dataframe using Pandas"
   ]
  },
  {
   "cell_type": "markdown",
   "id": "09fc35c2",
   "metadata": {},
   "source": [
    "1- Print the first 5 records of your data"
   ]
  },
  {
   "cell_type": "code",
   "execution_count": 2,
   "id": "1bfbee75",
   "metadata": {
    "scrolled": true
   },
   "outputs": [
    {
     "data": {
      "text/html": [
       "<div>\n",
       "<style scoped>\n",
       "    .dataframe tbody tr th:only-of-type {\n",
       "        vertical-align: middle;\n",
       "    }\n",
       "\n",
       "    .dataframe tbody tr th {\n",
       "        vertical-align: top;\n",
       "    }\n",
       "\n",
       "    .dataframe thead th {\n",
       "        text-align: right;\n",
       "    }\n",
       "</style>\n",
       "<table border=\"1\" class=\"dataframe\">\n",
       "  <thead>\n",
       "    <tr style=\"text-align: right;\">\n",
       "      <th></th>\n",
       "      <th>credit.policy</th>\n",
       "      <th>purpose</th>\n",
       "      <th>int.rate</th>\n",
       "      <th>installment</th>\n",
       "      <th>log.annual.inc</th>\n",
       "      <th>dti</th>\n",
       "      <th>fico</th>\n",
       "      <th>days.with.cr.line</th>\n",
       "      <th>revol.bal</th>\n",
       "      <th>revol.util</th>\n",
       "      <th>inq.last.6mths</th>\n",
       "      <th>delinq.2yrs</th>\n",
       "      <th>pub.rec</th>\n",
       "      <th>not.fully.paid</th>\n",
       "    </tr>\n",
       "  </thead>\n",
       "  <tbody>\n",
       "    <tr>\n",
       "      <th>0</th>\n",
       "      <td>1</td>\n",
       "      <td>debt_consolidation</td>\n",
       "      <td>0.1189</td>\n",
       "      <td>829.10</td>\n",
       "      <td>11.350407</td>\n",
       "      <td>19.48</td>\n",
       "      <td>737</td>\n",
       "      <td>5639.958333</td>\n",
       "      <td>28854</td>\n",
       "      <td>52.1</td>\n",
       "      <td>0</td>\n",
       "      <td>0</td>\n",
       "      <td>0</td>\n",
       "      <td>0</td>\n",
       "    </tr>\n",
       "    <tr>\n",
       "      <th>1</th>\n",
       "      <td>1</td>\n",
       "      <td>credit_card</td>\n",
       "      <td>0.1071</td>\n",
       "      <td>228.22</td>\n",
       "      <td>11.082143</td>\n",
       "      <td>14.29</td>\n",
       "      <td>707</td>\n",
       "      <td>2760.000000</td>\n",
       "      <td>33623</td>\n",
       "      <td>76.7</td>\n",
       "      <td>0</td>\n",
       "      <td>0</td>\n",
       "      <td>0</td>\n",
       "      <td>0</td>\n",
       "    </tr>\n",
       "    <tr>\n",
       "      <th>2</th>\n",
       "      <td>1</td>\n",
       "      <td>debt_consolidation</td>\n",
       "      <td>0.1357</td>\n",
       "      <td>366.86</td>\n",
       "      <td>10.373491</td>\n",
       "      <td>11.63</td>\n",
       "      <td>682</td>\n",
       "      <td>4710.000000</td>\n",
       "      <td>3511</td>\n",
       "      <td>25.6</td>\n",
       "      <td>1</td>\n",
       "      <td>0</td>\n",
       "      <td>0</td>\n",
       "      <td>0</td>\n",
       "    </tr>\n",
       "    <tr>\n",
       "      <th>3</th>\n",
       "      <td>1</td>\n",
       "      <td>debt_consolidation</td>\n",
       "      <td>0.1008</td>\n",
       "      <td>162.34</td>\n",
       "      <td>11.350407</td>\n",
       "      <td>8.10</td>\n",
       "      <td>712</td>\n",
       "      <td>2699.958333</td>\n",
       "      <td>33667</td>\n",
       "      <td>73.2</td>\n",
       "      <td>1</td>\n",
       "      <td>0</td>\n",
       "      <td>0</td>\n",
       "      <td>0</td>\n",
       "    </tr>\n",
       "    <tr>\n",
       "      <th>4</th>\n",
       "      <td>1</td>\n",
       "      <td>credit_card</td>\n",
       "      <td>0.1426</td>\n",
       "      <td>102.92</td>\n",
       "      <td>11.299732</td>\n",
       "      <td>14.97</td>\n",
       "      <td>667</td>\n",
       "      <td>4066.000000</td>\n",
       "      <td>4740</td>\n",
       "      <td>39.5</td>\n",
       "      <td>0</td>\n",
       "      <td>1</td>\n",
       "      <td>0</td>\n",
       "      <td>0</td>\n",
       "    </tr>\n",
       "  </tbody>\n",
       "</table>\n",
       "</div>"
      ],
      "text/plain": [
       "   credit.policy             purpose  int.rate  installment  log.annual.inc  \\\n",
       "0              1  debt_consolidation    0.1189       829.10       11.350407   \n",
       "1              1         credit_card    0.1071       228.22       11.082143   \n",
       "2              1  debt_consolidation    0.1357       366.86       10.373491   \n",
       "3              1  debt_consolidation    0.1008       162.34       11.350407   \n",
       "4              1         credit_card    0.1426       102.92       11.299732   \n",
       "\n",
       "     dti  fico  days.with.cr.line  revol.bal  revol.util  inq.last.6mths  \\\n",
       "0  19.48   737        5639.958333      28854        52.1               0   \n",
       "1  14.29   707        2760.000000      33623        76.7               0   \n",
       "2  11.63   682        4710.000000       3511        25.6               1   \n",
       "3   8.10   712        2699.958333      33667        73.2               1   \n",
       "4  14.97   667        4066.000000       4740        39.5               0   \n",
       "\n",
       "   delinq.2yrs  pub.rec  not.fully.paid  \n",
       "0            0        0               0  \n",
       "1            0        0               0  \n",
       "2            0        0               0  \n",
       "3            0        0               0  \n",
       "4            1        0               0  "
      ]
     },
     "execution_count": 2,
     "metadata": {},
     "output_type": "execute_result"
    }
   ],
   "source": [
    "df.head(5) "
   ]
  },
  {
   "cell_type": "markdown",
   "id": "b6145b46",
   "metadata": {},
   "source": [
    "2-Demonstrate the basic statistics of di erent features, i.e., count, mean, std, min, max, and 25:50:75% percentile"
   ]
  },
  {
   "cell_type": "code",
   "execution_count": 3,
   "id": "89d40ee0",
   "metadata": {
    "scrolled": true
   },
   "outputs": [
    {
     "data": {
      "text/html": [
       "<div>\n",
       "<style scoped>\n",
       "    .dataframe tbody tr th:only-of-type {\n",
       "        vertical-align: middle;\n",
       "    }\n",
       "\n",
       "    .dataframe tbody tr th {\n",
       "        vertical-align: top;\n",
       "    }\n",
       "\n",
       "    .dataframe thead th {\n",
       "        text-align: right;\n",
       "    }\n",
       "</style>\n",
       "<table border=\"1\" class=\"dataframe\">\n",
       "  <thead>\n",
       "    <tr style=\"text-align: right;\">\n",
       "      <th></th>\n",
       "      <th>credit.policy</th>\n",
       "      <th>int.rate</th>\n",
       "      <th>installment</th>\n",
       "      <th>log.annual.inc</th>\n",
       "      <th>dti</th>\n",
       "      <th>fico</th>\n",
       "      <th>days.with.cr.line</th>\n",
       "      <th>revol.bal</th>\n",
       "      <th>revol.util</th>\n",
       "      <th>inq.last.6mths</th>\n",
       "      <th>delinq.2yrs</th>\n",
       "      <th>pub.rec</th>\n",
       "      <th>not.fully.paid</th>\n",
       "    </tr>\n",
       "  </thead>\n",
       "  <tbody>\n",
       "    <tr>\n",
       "      <th>count</th>\n",
       "      <td>9577.000000</td>\n",
       "      <td>9577.000000</td>\n",
       "      <td>9577.000000</td>\n",
       "      <td>9577.000000</td>\n",
       "      <td>9577.000000</td>\n",
       "      <td>9577.000000</td>\n",
       "      <td>9577.000000</td>\n",
       "      <td>9.577000e+03</td>\n",
       "      <td>9577.000000</td>\n",
       "      <td>9577.000000</td>\n",
       "      <td>9577.000000</td>\n",
       "      <td>9577.000000</td>\n",
       "      <td>9577.000000</td>\n",
       "    </tr>\n",
       "    <tr>\n",
       "      <th>mean</th>\n",
       "      <td>0.805054</td>\n",
       "      <td>0.122638</td>\n",
       "      <td>319.033619</td>\n",
       "      <td>10.932082</td>\n",
       "      <td>12.606295</td>\n",
       "      <td>710.844106</td>\n",
       "      <td>4560.748482</td>\n",
       "      <td>1.691177e+04</td>\n",
       "      <td>46.798171</td>\n",
       "      <td>1.577007</td>\n",
       "      <td>0.163726</td>\n",
       "      <td>0.062128</td>\n",
       "      <td>0.159967</td>\n",
       "    </tr>\n",
       "    <tr>\n",
       "      <th>std</th>\n",
       "      <td>0.396180</td>\n",
       "      <td>0.026848</td>\n",
       "      <td>207.010102</td>\n",
       "      <td>0.614835</td>\n",
       "      <td>6.884227</td>\n",
       "      <td>37.971904</td>\n",
       "      <td>2497.060076</td>\n",
       "      <td>3.375727e+04</td>\n",
       "      <td>29.015745</td>\n",
       "      <td>2.199896</td>\n",
       "      <td>0.546241</td>\n",
       "      <td>0.262139</td>\n",
       "      <td>0.366594</td>\n",
       "    </tr>\n",
       "    <tr>\n",
       "      <th>min</th>\n",
       "      <td>0.000000</td>\n",
       "      <td>0.060000</td>\n",
       "      <td>15.670000</td>\n",
       "      <td>7.547502</td>\n",
       "      <td>0.000000</td>\n",
       "      <td>612.000000</td>\n",
       "      <td>178.958333</td>\n",
       "      <td>0.000000e+00</td>\n",
       "      <td>0.000000</td>\n",
       "      <td>0.000000</td>\n",
       "      <td>0.000000</td>\n",
       "      <td>0.000000</td>\n",
       "      <td>0.000000</td>\n",
       "    </tr>\n",
       "    <tr>\n",
       "      <th>25%</th>\n",
       "      <td>1.000000</td>\n",
       "      <td>0.103900</td>\n",
       "      <td>163.770000</td>\n",
       "      <td>10.558414</td>\n",
       "      <td>7.210000</td>\n",
       "      <td>682.000000</td>\n",
       "      <td>2820.000000</td>\n",
       "      <td>3.187000e+03</td>\n",
       "      <td>22.600000</td>\n",
       "      <td>0.000000</td>\n",
       "      <td>0.000000</td>\n",
       "      <td>0.000000</td>\n",
       "      <td>0.000000</td>\n",
       "    </tr>\n",
       "    <tr>\n",
       "      <th>50%</th>\n",
       "      <td>1.000000</td>\n",
       "      <td>0.122100</td>\n",
       "      <td>268.950000</td>\n",
       "      <td>10.928238</td>\n",
       "      <td>12.660000</td>\n",
       "      <td>707.000000</td>\n",
       "      <td>4139.958333</td>\n",
       "      <td>8.596000e+03</td>\n",
       "      <td>46.300000</td>\n",
       "      <td>1.000000</td>\n",
       "      <td>0.000000</td>\n",
       "      <td>0.000000</td>\n",
       "      <td>0.000000</td>\n",
       "    </tr>\n",
       "    <tr>\n",
       "      <th>75%</th>\n",
       "      <td>1.000000</td>\n",
       "      <td>0.140700</td>\n",
       "      <td>432.350000</td>\n",
       "      <td>11.291780</td>\n",
       "      <td>17.950000</td>\n",
       "      <td>737.000000</td>\n",
       "      <td>5730.000000</td>\n",
       "      <td>1.824200e+04</td>\n",
       "      <td>70.900000</td>\n",
       "      <td>2.000000</td>\n",
       "      <td>0.000000</td>\n",
       "      <td>0.000000</td>\n",
       "      <td>0.000000</td>\n",
       "    </tr>\n",
       "    <tr>\n",
       "      <th>max</th>\n",
       "      <td>1.000000</td>\n",
       "      <td>0.216400</td>\n",
       "      <td>940.140000</td>\n",
       "      <td>14.528354</td>\n",
       "      <td>29.960000</td>\n",
       "      <td>827.000000</td>\n",
       "      <td>17639.958330</td>\n",
       "      <td>1.207359e+06</td>\n",
       "      <td>119.000000</td>\n",
       "      <td>33.000000</td>\n",
       "      <td>13.000000</td>\n",
       "      <td>5.000000</td>\n",
       "      <td>1.000000</td>\n",
       "    </tr>\n",
       "  </tbody>\n",
       "</table>\n",
       "</div>"
      ],
      "text/plain": [
       "       credit.policy     int.rate  installment  log.annual.inc          dti  \\\n",
       "count    9577.000000  9577.000000  9577.000000     9577.000000  9577.000000   \n",
       "mean        0.805054     0.122638   319.033619       10.932082    12.606295   \n",
       "std         0.396180     0.026848   207.010102        0.614835     6.884227   \n",
       "min         0.000000     0.060000    15.670000        7.547502     0.000000   \n",
       "25%         1.000000     0.103900   163.770000       10.558414     7.210000   \n",
       "50%         1.000000     0.122100   268.950000       10.928238    12.660000   \n",
       "75%         1.000000     0.140700   432.350000       11.291780    17.950000   \n",
       "max         1.000000     0.216400   940.140000       14.528354    29.960000   \n",
       "\n",
       "              fico  days.with.cr.line     revol.bal   revol.util  \\\n",
       "count  9577.000000        9577.000000  9.577000e+03  9577.000000   \n",
       "mean    710.844106        4560.748482  1.691177e+04    46.798171   \n",
       "std      37.971904        2497.060076  3.375727e+04    29.015745   \n",
       "min     612.000000         178.958333  0.000000e+00     0.000000   \n",
       "25%     682.000000        2820.000000  3.187000e+03    22.600000   \n",
       "50%     707.000000        4139.958333  8.596000e+03    46.300000   \n",
       "75%     737.000000        5730.000000  1.824200e+04    70.900000   \n",
       "max     827.000000       17639.958330  1.207359e+06   119.000000   \n",
       "\n",
       "       inq.last.6mths  delinq.2yrs      pub.rec  not.fully.paid  \n",
       "count     9577.000000  9577.000000  9577.000000     9577.000000  \n",
       "mean         1.577007     0.163726     0.062128        0.159967  \n",
       "std          2.199896     0.546241     0.262139        0.366594  \n",
       "min          0.000000     0.000000     0.000000        0.000000  \n",
       "25%          0.000000     0.000000     0.000000        0.000000  \n",
       "50%          1.000000     0.000000     0.000000        0.000000  \n",
       "75%          2.000000     0.000000     0.000000        0.000000  \n",
       "max         33.000000    13.000000     5.000000        1.000000  "
      ]
     },
     "execution_count": 3,
     "metadata": {},
     "output_type": "execute_result"
    }
   ],
   "source": [
    "df.describe() "
   ]
  },
  {
   "cell_type": "markdown",
   "id": "6dc6bbec",
   "metadata": {},
   "source": [
    "3- Show the breakup of credit approval status. In our original data, 1 indicates \"approved\", 0 means \"not approved\""
   ]
  },
  {
   "cell_type": "code",
   "execution_count": 50,
   "id": "66771aaa",
   "metadata": {},
   "outputs": [
    {
     "name": "stdout",
     "output_type": "stream",
     "text": [
      "Approved (1):  7710 \n",
      "Not Approved (0):  1867\n"
     ]
    }
   ],
   "source": [
    "print(\"Approved (1): \", df['credit.policy'].value_counts()[1],\n",
    "      \"\\nNot Approved (0): \", df['credit.policy'].value_counts()[0])"
   ]
  },
  {
   "cell_type": "code",
   "execution_count": 55,
   "id": "69521621",
   "metadata": {},
   "outputs": [
    {
     "data": {
      "text/plain": [
       "<matplotlib.legend.Legend at 0x7ffcaba405b0>"
      ]
     },
     "execution_count": 55,
     "metadata": {},
     "output_type": "execute_result"
    },
    {
     "data": {
      "image/png": "[encoded data removed]",
      "text/plain": [
       "<Figure size 720x360 with 1 Axes>"
      ]
     },
     "metadata": {
      "needs_background": "light"
     },
     "output_type": "display_data"
    }
   ],
   "source": [
    "\n",
    "import seaborn as sns\n",
    "%matplotlib inline\n",
    "plt.figure(figsize=(10,5))\n",
    "df[df[\"credit.policy\"] == 1][\"credit.policy\"].hist(color=\"red\",bins=50,label=\"Credit Policy = 1\",alpha=0.4)\n",
    "df[df[\"credit.policy\"] == 0][\"credit.policy\"].hist(color=\"blue\",bins=50,label=\"Credit Policy = 0\",alpha=0.4)\n",
    "plt.legend()"
   ]
  },
  {
   "cell_type": "markdown",
   "id": "e7545b7d",
   "metadata": {},
   "source": [
    "The above figure shows that around 1867 people are not approved for the loan \n",
    "and 7710 people are approved for the loan"
   ]
  },
  {
   "cell_type": "markdown",
   "id": "8bd19778",
   "metadata": {},
   "source": [
    "4- Plot the histogram of installments by \"approved\" and \"not approved\"\n"
   ]
  },
  {
   "cell_type": "code",
   "execution_count": 56,
   "id": "f5e9e2b9",
   "metadata": {},
   "outputs": [
    {
     "data": {
      "text/plain": [
       "<matplotlib.legend.Legend at 0x7ffcac06ee80>"
      ]
     },
     "execution_count": 56,
     "metadata": {},
     "output_type": "execute_result"
    },
    {
     "data": {
      "image/png": "[encoded data removed]",
      "text/plain": [
       "<Figure size 720x360 with 1 Axes>"
      ]
     },
     "metadata": {
      "needs_background": "light"
     },
     "output_type": "display_data"
    }
   ],
   "source": [
    "\n",
    "import seaborn as sns\n",
    "%matplotlib inline\n",
    "plt.figure(figsize=(10,5))\n",
    "df[df[\"credit.policy\"] == 1][\"installment\"].hist(color=\"red\",bins=50,label=\"Credit Policy = 1\",alpha=0.4)\n",
    "df[df[\"credit.policy\"] == 0][\"installment\"].hist(color=\"green\",bins=50,label=\"Credit Policy = 0\",alpha=0.4)\n",
    "plt.legend()\n",
    "\n"
   ]
  },
  {
   "cell_type": "markdown",
   "id": "0c2b1a80",
   "metadata": {},
   "source": [
    "here we make two different histogram one for those who have credit policy 1 score \n",
    "and the other for those who have credit policy of 0 score for installment attribute. "
   ]
  },
  {
   "cell_type": "markdown",
   "id": "be7014f3",
   "metadata": {},
   "source": [
    " 5- Illustrate with boxplot Fico score varies between \"approved\" and \"not approved\" borrowers"
   ]
  },
  {
   "cell_type": "code",
   "execution_count": 53,
   "id": "53563662",
   "metadata": {},
   "outputs": [
    {
     "data": {
      "text/plain": [
       "<AxesSubplot:title={'center':'fico'}, xlabel='not.fully.paid'>"
      ]
     },
     "execution_count": 53,
     "metadata": {},
     "output_type": "execute_result"
    },
    {
     "data": {
      "image/png": "[encoded data removed]",
      "text/plain": [
       "<Figure size 432x288 with 1 Axes>"
      ]
     },
     "metadata": {
      "needs_background": "light"
     },
     "output_type": "display_data"
    }
   ],
   "source": [
    "df.boxplot(column='fico',by='not.fully.paid')"
   ]
  },
  {
   "cell_type": "markdown",
   "id": "dd789b67",
   "metadata": {},
   "source": [
    "# 2.2 Data Preprocessing and Model Construction:  "
   ]
  },
  {
   "cell_type": "markdown",
   "id": "c006976f",
   "metadata": {},
   "source": [
    " 2.2.1 Data Preprocessing and Splitting\n",
    "The “purpose” feature in our dataset takes different nominal values, i.e., “credit card”, “debt consolidation”, “educational”, “major purchase”, “small business”, and “all other”. In this question,please convert them with dummy variables so sklearn can recognize them.More speci cally, it can be expanded into 6 di erent features, with each indicating whether a specialpurpose is served with a boolean value."
   ]
  },
  {
   "cell_type": "code",
   "execution_count": 33,
   "id": "c69504f5",
   "metadata": {},
   "outputs": [
    {
     "data": {
      "text/html": [
       "<div>\n",
       "<style scoped>\n",
       "    .dataframe tbody tr th:only-of-type {\n",
       "        vertical-align: middle;\n",
       "    }\n",
       "\n",
       "    .dataframe tbody tr th {\n",
       "        vertical-align: top;\n",
       "    }\n",
       "\n",
       "    .dataframe thead th {\n",
       "        text-align: right;\n",
       "    }\n",
       "</style>\n",
       "<table border=\"1\" class=\"dataframe\">\n",
       "  <thead>\n",
       "    <tr style=\"text-align: right;\">\n",
       "      <th></th>\n",
       "      <th>credit.policy</th>\n",
       "      <th>int.rate</th>\n",
       "      <th>installment</th>\n",
       "      <th>log.annual.inc</th>\n",
       "      <th>dti</th>\n",
       "      <th>fico</th>\n",
       "      <th>days.with.cr.line</th>\n",
       "      <th>revol.bal</th>\n",
       "      <th>revol.util</th>\n",
       "      <th>inq.last.6mths</th>\n",
       "      <th>delinq.2yrs</th>\n",
       "      <th>pub.rec</th>\n",
       "      <th>not.fully.paid</th>\n",
       "      <th>purpose_all_other</th>\n",
       "      <th>purpose_credit_card</th>\n",
       "      <th>purpose_debt_consolidation</th>\n",
       "      <th>purpose_educational</th>\n",
       "      <th>purpose_home_improvement</th>\n",
       "      <th>purpose_major_purchase</th>\n",
       "      <th>purpose_small_business</th>\n",
       "    </tr>\n",
       "  </thead>\n",
       "  <tbody>\n",
       "    <tr>\n",
       "      <th>0</th>\n",
       "      <td>1</td>\n",
       "      <td>0.1189</td>\n",
       "      <td>829.10</td>\n",
       "      <td>11.350407</td>\n",
       "      <td>19.48</td>\n",
       "      <td>737</td>\n",
       "      <td>5639.958333</td>\n",
       "      <td>28854</td>\n",
       "      <td>52.1</td>\n",
       "      <td>0</td>\n",
       "      <td>0</td>\n",
       "      <td>0</td>\n",
       "      <td>0</td>\n",
       "      <td>0</td>\n",
       "      <td>0</td>\n",
       "      <td>1</td>\n",
       "      <td>0</td>\n",
       "      <td>0</td>\n",
       "      <td>0</td>\n",
       "      <td>0</td>\n",
       "    </tr>\n",
       "    <tr>\n",
       "      <th>1</th>\n",
       "      <td>1</td>\n",
       "      <td>0.1071</td>\n",
       "      <td>228.22</td>\n",
       "      <td>11.082143</td>\n",
       "      <td>14.29</td>\n",
       "      <td>707</td>\n",
       "      <td>2760.000000</td>\n",
       "      <td>33623</td>\n",
       "      <td>76.7</td>\n",
       "      <td>0</td>\n",
       "      <td>0</td>\n",
       "      <td>0</td>\n",
       "      <td>0</td>\n",
       "      <td>0</td>\n",
       "      <td>1</td>\n",
       "      <td>0</td>\n",
       "      <td>0</td>\n",
       "      <td>0</td>\n",
       "      <td>0</td>\n",
       "      <td>0</td>\n",
       "    </tr>\n",
       "    <tr>\n",
       "      <th>2</th>\n",
       "      <td>1</td>\n",
       "      <td>0.1357</td>\n",
       "      <td>366.86</td>\n",
       "      <td>10.373491</td>\n",
       "      <td>11.63</td>\n",
       "      <td>682</td>\n",
       "      <td>4710.000000</td>\n",
       "      <td>3511</td>\n",
       "      <td>25.6</td>\n",
       "      <td>1</td>\n",
       "      <td>0</td>\n",
       "      <td>0</td>\n",
       "      <td>0</td>\n",
       "      <td>0</td>\n",
       "      <td>0</td>\n",
       "      <td>1</td>\n",
       "      <td>0</td>\n",
       "      <td>0</td>\n",
       "      <td>0</td>\n",
       "      <td>0</td>\n",
       "    </tr>\n",
       "    <tr>\n",
       "      <th>3</th>\n",
       "      <td>1</td>\n",
       "      <td>0.1008</td>\n",
       "      <td>162.34</td>\n",
       "      <td>11.350407</td>\n",
       "      <td>8.10</td>\n",
       "      <td>712</td>\n",
       "      <td>2699.958333</td>\n",
       "      <td>33667</td>\n",
       "      <td>73.2</td>\n",
       "      <td>1</td>\n",
       "      <td>0</td>\n",
       "      <td>0</td>\n",
       "      <td>0</td>\n",
       "      <td>0</td>\n",
       "      <td>0</td>\n",
       "      <td>1</td>\n",
       "      <td>0</td>\n",
       "      <td>0</td>\n",
       "      <td>0</td>\n",
       "      <td>0</td>\n",
       "    </tr>\n",
       "    <tr>\n",
       "      <th>4</th>\n",
       "      <td>1</td>\n",
       "      <td>0.1426</td>\n",
       "      <td>102.92</td>\n",
       "      <td>11.299732</td>\n",
       "      <td>14.97</td>\n",
       "      <td>667</td>\n",
       "      <td>4066.000000</td>\n",
       "      <td>4740</td>\n",
       "      <td>39.5</td>\n",
       "      <td>0</td>\n",
       "      <td>1</td>\n",
       "      <td>0</td>\n",
       "      <td>0</td>\n",
       "      <td>0</td>\n",
       "      <td>1</td>\n",
       "      <td>0</td>\n",
       "      <td>0</td>\n",
       "      <td>0</td>\n",
       "      <td>0</td>\n",
       "      <td>0</td>\n",
       "    </tr>\n",
       "  </tbody>\n",
       "</table>\n",
       "</div>"
      ],
      "text/plain": [
       "   credit.policy  int.rate  installment  log.annual.inc    dti  fico  \\\n",
       "0              1    0.1189       829.10       11.350407  19.48   737   \n",
       "1              1    0.1071       228.22       11.082143  14.29   707   \n",
       "2              1    0.1357       366.86       10.373491  11.63   682   \n",
       "3              1    0.1008       162.34       11.350407   8.10   712   \n",
       "4              1    0.1426       102.92       11.299732  14.97   667   \n",
       "\n",
       "   days.with.cr.line  revol.bal  revol.util  inq.last.6mths  delinq.2yrs  \\\n",
       "0        5639.958333      28854        52.1               0            0   \n",
       "1        2760.000000      33623        76.7               0            0   \n",
       "2        4710.000000       3511        25.6               1            0   \n",
       "3        2699.958333      33667        73.2               1            0   \n",
       "4        4066.000000       4740        39.5               0            1   \n",
       "\n",
       "   pub.rec  not.fully.paid  purpose_all_other  purpose_credit_card  \\\n",
       "0        0               0                  0                    0   \n",
       "1        0               0                  0                    1   \n",
       "2        0               0                  0                    0   \n",
       "3        0               0                  0                    0   \n",
       "4        0               0                  0                    1   \n",
       "\n",
       "   purpose_debt_consolidation  purpose_educational  purpose_home_improvement  \\\n",
       "0                           1                    0                         0   \n",
       "1                           0                    0                         0   \n",
       "2                           1                    0                         0   \n",
       "3                           1                    0                         0   \n",
       "4                           0                    0                         0   \n",
       "\n",
       "   purpose_major_purchase  purpose_small_business  \n",
       "0                       0                       0  \n",
       "1                       0                       0  \n",
       "2                       0                       0  \n",
       "3                       0                       0  \n",
       "4                       0                       0  "
      ]
     },
     "execution_count": 33,
     "metadata": {},
     "output_type": "execute_result"
    }
   ],
   "source": [
    "\n",
    "#We need to transform \"Purpose\" culumn to dummy variables \n",
    "\n",
    "category_features =['purpose']\n",
    "final_data = pd.get_dummies(df)\n",
    "final_data.head()"
   ]
  },
  {
   "cell_type": "markdown",
   "id": "ec2cc3ba",
   "metadata": {},
   "source": [
    "change the purpose column from a categorical column to dummy variable and see information after that"
   ]
  },
  {
   "cell_type": "code",
   "execution_count": 25,
   "id": "0609aa93",
   "metadata": {},
   "outputs": [
    {
     "name": "stdout",
     "output_type": "stream",
     "text": [
      "<class 'pandas.core.frame.DataFrame'>\n",
      "RangeIndex: 9577 entries, 0 to 9576\n",
      "Data columns (total 19 columns):\n",
      " #   Column                      Non-Null Count  Dtype  \n",
      "---  ------                      --------------  -----  \n",
      " 0   credit.policy               9577 non-null   int64  \n",
      " 1   int.rate                    9577 non-null   float64\n",
      " 2   installment                 9577 non-null   float64\n",
      " 3   log.annual.inc              9577 non-null   float64\n",
      " 4   dti                         9577 non-null   float64\n",
      " 5   fico                        9577 non-null   int64  \n",
      " 6   days.with.cr.line           9577 non-null   float64\n",
      " 7   revol.bal                   9577 non-null   int64  \n",
      " 8   revol.util                  9577 non-null   float64\n",
      " 9   inq.last.6mths              9577 non-null   int64  \n",
      " 10  delinq.2yrs                 9577 non-null   int64  \n",
      " 11  pub.rec                     9577 non-null   int64  \n",
      " 12  not.fully.paid              9577 non-null   int64  \n",
      " 13  purpose_credit_card         9577 non-null   uint8  \n",
      " 14  purpose_debt_consolidation  9577 non-null   uint8  \n",
      " 15  purpose_educational         9577 non-null   uint8  \n",
      " 16  purpose_home_improvement    9577 non-null   uint8  \n",
      " 17  purpose_major_purchase      9577 non-null   uint8  \n",
      " 18  purpose_small_business      9577 non-null   uint8  \n",
      "dtypes: float64(6), int64(7), uint8(6)\n",
      "memory usage: 1.0 MB\n"
     ]
    }
   ],
   "source": [
    "features = ['purpose']\n",
    "final_data = pd.get_dummies(df, columns = features, drop_first = True)\n",
    "final_data.info()"
   ]
  },
  {
   "cell_type": "markdown",
   "id": "6936d7b8",
   "metadata": {},
   "source": [
    "showing them in a plot"
   ]
  },
  {
   "cell_type": "code",
   "execution_count": 38,
   "id": "fc1aa244",
   "metadata": {},
   "outputs": [
    {
     "data": {
      "text/plain": [
       "<AxesSubplot:xlabel='purpose', ylabel='count'>"
      ]
     },
     "execution_count": 38,
     "metadata": {},
     "output_type": "execute_result"
    },
    {
     "data": {
      "image/png": "[encoded data removed]",
      "text/plain": [
       "<Figure size 720x360 with 1 Axes>"
      ]
     },
     "metadata": {
      "needs_background": "light"
     },
     "output_type": "display_data"
    }
   ],
   "source": [
    "%matplotlib inline\n",
    "plt.subplots(figsize = (10,5))\n",
    "sns.countplot(x = 'purpose', hue = 'not.fully.paid', data = df)"
   ]
  },
  {
   "cell_type": "markdown",
   "id": "9279d828",
   "metadata": {},
   "source": [
    "To evaluate the e ectiveness of your method, the whole data should be split into two parts. \n",
    "In this question, a ratio of70%:  30% is set between training and testing data, i.e., \n",
    "you need to randomly select 70% of the data as training, and leavethe rest as testing data."
   ]
  },
  {
   "cell_type": "code",
   "execution_count": 10,
   "id": "e02b6c24",
   "metadata": {},
   "outputs": [],
   "source": [
    "from sklearn.model_selection import train_test_split"
   ]
  },
  {
   "cell_type": "code",
   "execution_count": 43,
   "id": "5042477a",
   "metadata": {},
   "outputs": [],
   "source": [
    "# a ratio of 70% and  30% is set between training and testing data\n",
    "X = final_data.drop('not.fully.paid', axis = 1)\n",
    "y = final_data['not.fully.paid']\n",
    "X_train, X_test, y_train, y_test = train_test_split(X, y, test_size=0.30, random_state=42)"
   ]
  },
  {
   "cell_type": "markdown",
   "id": "b65255af",
   "metadata": {},
   "source": [
    "                    2.2.2 Training Decision Tree Model"
   ]
  },
  {
   "cell_type": "markdown",
   "id": "075fad36",
   "metadata": {},
   "source": [
    "In this  question,  you  are  expected  to  construct  a  decision  tree  for  decision  making.   Luckily,  you  do  not  need  to  developeverything from scratch.  You should adopt theDecisionTreeClassi erincluded inscikit-learn.  Note that  guring out how touse this implementation,its corresponding attributes and methods is a part of the assignment.Two splitting criteria should be introduced, i.e.,1.  Information Gain,2.  Gini coeficient"
   ]
  },
  {
   "cell_type": "markdown",
   "id": "0225a219",
   "metadata": {},
   "source": [
    "splitting criteria : Gini Index"
   ]
  },
  {
   "cell_type": "code",
   "execution_count": 45,
   "id": "46a9c86b",
   "metadata": {},
   "outputs": [
    {
     "data": {
      "text/plain": [
       "DecisionTreeClassifier()"
      ]
     },
     "execution_count": 45,
     "metadata": {},
     "output_type": "execute_result"
    }
   ],
   "source": [
    "#in decision tree classifier , the default is Gini index \n",
    "from sklearn.tree import DecisionTreeClassifier\n",
    "dtree = DecisionTreeClassifier()\n",
    "dtree.fit(X_train, y_train)"
   ]
  },
  {
   "cell_type": "code",
   "execution_count": 46,
   "id": "ca0294b2",
   "metadata": {},
   "outputs": [
    {
     "name": "stdout",
     "output_type": "stream",
     "text": [
      "              precision    recall  f1-score   support\n",
      "\n",
      "           0       0.86      0.84      0.85      2422\n",
      "           1       0.24      0.28      0.26       452\n",
      "\n",
      "    accuracy                           0.75      2874\n",
      "   macro avg       0.55      0.56      0.55      2874\n",
      "weighted avg       0.76      0.75      0.76      2874\n",
      " \n",
      "\n",
      "[[2031  391]\n",
      " [ 327  125]]\n"
     ]
    }
   ],
   "source": [
    "# creating confusion matrix for comparision\n",
    "from sklearn.metrics import classification_report, confusion_matrix\n",
    "predictions = dtree.predict(X_test)\n",
    "print(classification_report(y_test, predictions), '\\n')\n",
    "\n",
    "print(confusion_matrix(y_test, predictions)) #print confusion matrix when it is for Gini index"
   ]
  },
  {
   "cell_type": "markdown",
   "id": "f69b417b",
   "metadata": {},
   "source": [
    "splitting criteria : Information Gain"
   ]
  },
  {
   "cell_type": "code",
   "execution_count": 47,
   "id": "10eb16ea",
   "metadata": {},
   "outputs": [
    {
     "data": {
      "text/plain": [
       "DecisionTreeClassifier(criterion='entropy')"
      ]
     },
     "execution_count": 47,
     "metadata": {},
     "output_type": "execute_result"
    }
   ],
   "source": [
    "#in decision tree classifier , the default is Gini index so We should change it to entropy which is related to information gain\n",
    "from sklearn.tree import DecisionTreeClassifier\n",
    "dtree = DecisionTreeClassifier(criterion=\"entropy\")\n",
    "dtree.fit(X_train, y_train)"
   ]
  },
  {
   "cell_type": "code",
   "execution_count": 48,
   "id": "8722f97a",
   "metadata": {},
   "outputs": [
    {
     "name": "stdout",
     "output_type": "stream",
     "text": [
      "              precision    recall  f1-score   support\n",
      "\n",
      "           0       0.85      0.84      0.85      2422\n",
      "           1       0.21      0.23      0.22       452\n",
      "\n",
      "    accuracy                           0.74      2874\n",
      "   macro avg       0.53      0.54      0.53      2874\n",
      "weighted avg       0.75      0.74      0.75      2874\n",
      " \n",
      "\n",
      "[[2027  395]\n",
      " [ 346  106]]\n"
     ]
    }
   ],
   "source": [
    "# creating confusion matrix for comparision\n",
    "from sklearn.metrics import classification_report, confusion_matrix\n",
    "predictions = dtree.predict(X_test)\n",
    "print(classification_report(y_test, predictions), '\\n')\n",
    "\n",
    "print(confusion_matrix(y_test, predictions)) #print confusion matrix when it is for Information gain"
   ]
  },
  {
   "cell_type": "markdown",
   "id": "fcb0e9ea",
   "metadata": {},
   "source": [
    "2.3 Performance Evaluation and Analysis:\n",
    "To compare the performance of different approaches, we usually examine our model with testing data using various evaluationmetrics.  In this question, please showconfusion matrix, precision, recall, and f-scoreon both Information Gain andGini based methods.\n",
    "Finally, to conclude your work, please use concise language to analyze the results based on your observati"
   ]
  },
  {
   "cell_type": "markdown",
   "id": "1d014c68",
   "metadata": {},
   "source": [
    "Overall the Decision tree based on Gini index performed better than the decision tree based on Information Gain. \n",
    "Moreover, in certain cases such as recall,precision and f1-score in all classes 0 and 1, the decision tree based on Gini index performed better than the decision tree based on Information Gain.\n"
   ]
  },
  {
   "cell_type": "code",
   "execution_count": null,
   "id": "74fd788c",
   "metadata": {},
   "outputs": [],
   "source": []
  }
 ],
 "metadata": {
  "kernelspec": {
   "display_name": "Python 3 (ipykernel)",
   "language": "python",
   "name": "python3"
  },
  "language_info": {
   "codemirror_mode": {
    "name": "ipython",
    "version": 3
   },
   "file_extension": ".py",
   "mimetype": "text/x-python",
   "name": "python",
   "nbconvert_exporter": "python",
   "pygments_lexer": "ipython3",
   "version": "3.9.7"
  }
 },
 "nbformat": 4,
 "nbformat_minor": 5
}
